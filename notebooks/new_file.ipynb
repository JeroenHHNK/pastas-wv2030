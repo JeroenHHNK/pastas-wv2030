{
 "cells": [
  {
   "cell_type": "code",
   "execution_count": null,
   "id": "6f63bb04",
   "metadata": {},
   "outputs": [],
   "source": [
    "# 1. Load Excel file\n",
    "file_path_waterhoogte = Path(\"../input_files/input_single/waterhoogte_drieban.xlsx\")\n",
    "df = pd.read_excel(file_path_waterhoogte)\n",
    "\n",
    "# 2. Convert 'datetime' column to datetime type\n",
    "df['datetime'] = pd.to_datetime(df['datetime'])\n",
    "\n",
    "# 3. Set datetime as index\n",
    "df.set_index('datetime', inplace=True)\n",
    "\n",
    "# 4. Resample to daily mean (will have missing dates if no data on some days)\n",
    "waterhoogte_daily_mean = df['waterhoogte'].resample(\"D\").mean()\n",
    "\n",
    "# 5. Fill missing days with a method or value, e.g., forward fill or zero (if appropriate)\n",
    "waterhoogte_daily_mean = waterhoogte_daily_mean.ffill()  # or .bfill(), or .fillna(0)\n",
    "\n",
    "# 6. Now frequency can be inferred correctly\n",
    "waterhoogte_daily_mean.index.freq = \"D\""
   ]
  }
 ],
 "metadata": {
  "language_info": {
   "name": "python"
  }
 },
 "nbformat": 4,
 "nbformat_minor": 5
}
