{
 "cells": [
  {
   "cell_type": "markdown",
   "id": "338f237b",
   "metadata": {},
   "source": []
  },
  {
   "cell_type": "code",
   "execution_count": null,
   "id": "a1d84bc6",
   "metadata": {},
   "outputs": [],
   "source": [
    "import pandas as pd\n",
    "import sys\n",
    "from pathlib import Path\n",
    "import pastas as ps\n",
    "\n",
    "# Add the 'scripts' directory to sys.path\n",
    "scripts_path = Path(\"../scripts\").resolve()\n",
    "if str(scripts_path) not in sys.path:\n",
    "    sys.path.append(str(scripts_path))\n"
   ]
  },
  {
   "cell_type": "markdown",
   "id": "4b8701cb",
   "metadata": {},
   "source": [
    "### Loading Input Files"
   ]
  },
  {
   "cell_type": "code",
   "execution_count": null,
   "id": "0022ec13",
   "metadata": {},
   "outputs": [],
   "source": [
    "from knmi_pull import fetch_knmi_prec_evap\n",
    "data = fetch_knmi_prec_evap(\"249\", \"2000-01-01\", \"2025-06-01\")"
   ]
  },
  {
   "cell_type": "code",
   "execution_count": null,
   "id": "b65162e4",
   "metadata": {},
   "outputs": [],
   "source": [
    "prec = data[0]\n",
    "evap = data[1]"
   ]
  },
  {
   "cell_type": "code",
   "execution_count": null,
   "id": "5926f714",
   "metadata": {},
   "outputs": [],
   "source": [
    "# 1. Load Excel file\n",
    "file_path_excel = Path(\"../input_files/input_single/Fugro_HB28_PB1.xlsx\")\n",
    "df_head = pd.read_excel(file_path_excel)\n",
    "\n",
    "print(df_head.head())"
   ]
  },
  {
   "cell_type": "code",
   "execution_count": null,
   "id": "50b76c64",
   "metadata": {},
   "outputs": [],
   "source": [
    "# 2. Convert 'time' column to datetime using flexible parsing\n",
    "df_head['time'] = pd.to_datetime(df_head['DateTime'], format='mixed', dayfirst=True)\n",
    "\n",
    "# 3. Set datetime column as index\n",
    "df_head.set_index('time', inplace=True)\n",
    "\n",
    "# 4. Resample to daily mean\n",
    "head_daily_mean = df_head['HB28_PB1'].resample(\"D\").mean().dropna()"
   ]
  },
  {
   "cell_type": "markdown",
   "id": "e612b0b9",
   "metadata": {},
   "source": [
    "#### Waterhoogte systeem"
   ]
  },
  {
   "cell_type": "code",
   "execution_count": null,
   "id": "a961fd93",
   "metadata": {},
   "outputs": [],
   "source": [
    "# 1. Load Excel file\n",
    "file_path_waterhoogte = Path(\"../input_files/input_single/waterhoogte_drieban.xlsx\")\n",
    "df = pd.read_excel(file_path_waterhoogte)\n",
    "\n",
    "# 2. Convert 'datetime' column to datetime type\n",
    "df['datetime'] = pd.to_datetime(df['datetime'])\n",
    "\n",
    "# 3. Set datetime as index\n",
    "df.set_index('datetime', inplace=True)\n",
    "\n",
    "# 4. Resample to daily mean (will have missing dates if no data on some days)\n",
    "waterhoogte_daily_mean = df['waterhoogte'].resample(\"D\").mean()\n",
    "\n",
    "# 5. Fill missing days with a method or value, e.g., forward fill or zero (if appropriate)\n",
    "waterhoogte_daily_mean = waterhoogte_daily_mean.ffill()  # or .bfill(), or .fillna(0)\n",
    "\n",
    "# 6. Now frequency can be inferred correctly\n",
    "waterhoogte_daily_mean.index.freq = \"D\""
   ]
  },
  {
   "cell_type": "markdown",
   "id": "636af951",
   "metadata": {},
   "source": [
    "### Gegevenscontrole"
   ]
  },
  {
   "cell_type": "code",
   "execution_count": null,
   "id": "483a2745",
   "metadata": {},
   "outputs": [],
   "source": [
    "import matplotlib.pyplot as plt\n",
    "\n",
    "ax1 = prec.plot(label='Precipitation', color='blue', figsize=(12, 6))\n",
    "ax2 = evap.plot(label='Evaporation', color='orange')\n",
    "plt.xlabel(\"Datum\")\n",
    "plt.ylabel(\"mm/dag\")  # or your preferred unit\n",
    "plt.grid(True)\n",
    "plt.show()"
   ]
  },
  {
   "cell_type": "code",
   "execution_count": null,
   "id": "6fe4ac7e",
   "metadata": {},
   "outputs": [],
   "source": [
    "head_daily_mean.plot(figsize=(14, 4), title=\"Dagelijkse Gemiddelde Stijghoogte\")\n",
    "plt.xlabel(\"Datum\")\n",
    "plt.ylabel(\"Grondwaterstand (m NAP)\")  # or your preferred unit\n",
    "plt.grid(True)\n",
    "plt.show()\n"
   ]
  },
  {
   "cell_type": "code",
   "execution_count": null,
   "id": "a25e3c15",
   "metadata": {},
   "outputs": [],
   "source": [
    "waterhoogte_daily_mean.plot(figsize=(14, 4), title=\"Waterhoogte Drieban\")\n",
    "plt.xlabel(\"Datum\")\n",
    "plt.ylabel(\"Waterstand Markermeer\")  # or your preferred unit\n",
    "plt.grid(True)\n",
    "plt.show()\n"
   ]
  },
  {
   "cell_type": "code",
   "execution_count": null,
   "id": "d5b5d065",
   "metadata": {},
   "outputs": [],
   "source": [
    "start_head_series = head_daily_mean.index.min()\n",
    "end_head_series = head_daily_mean.index.max()\n",
    "\n",
    "print(start_head_series, end_head_series)"
   ]
  },
  {
   "cell_type": "code",
   "execution_count": null,
   "id": "f1e4049c",
   "metadata": {},
   "outputs": [],
   "source": [
    "import plotly.graph_objects as go\n",
    "\n",
    "# Align all series to the index of head_daily_mean\n",
    "common_index = head_daily_mean.dropna().index\n",
    "prec_aligned = prec.reindex(common_index).fillna(0)\n",
    "evap_aligned = evap.reindex(common_index).fillna(0)\n",
    "waterhoogte_aligned = waterhoogte_daily_mean.reindex(common_index).fillna(method=\"ffill\")\n",
    "\n",
    "fig = go.Figure()\n",
    "\n",
    "# Precipitation\n",
    "fig.add_trace(go.Scatter(\n",
    "    x=common_index, y=prec_aligned,\n",
    "    mode='lines', name='Precipitation (mm/dag)',\n",
    "    yaxis='y2', line=dict(color='blue')\n",
    "))\n",
    "\n",
    "# Evaporation\n",
    "fig.add_trace(go.Scatter(\n",
    "    x=common_index, y=evap_aligned,\n",
    "    mode='lines', name='Evaporation (mm/dag)',\n",
    "    yaxis='y2', line=dict(color='orange')\n",
    "))\n",
    "\n",
    "# Groundwater head\n",
    "fig.add_trace(go.Scatter(\n",
    "    x=common_index, y=head_daily_mean.reindex(common_index),\n",
    "    mode='lines', name='Stijghoogte (m NAP)',\n",
    "    yaxis='y1', line=dict(color='green')\n",
    "))\n",
    "\n",
    "# Surface water level\n",
    "fig.add_trace(go.Scatter(\n",
    "    x=common_index, y=waterhoogte_aligned,\n",
    "    mode='lines', name='Waterhoogte Markermeer',\n",
    "    yaxis='y1', line=dict(color='purple')\n",
    "))\n",
    "\n",
    "# Layout\n",
    "fig.update_layout(\n",
    "    title=\"Meteorologische en Hydrologische Tijdreeksen\",\n",
    "    xaxis=dict(title='Datum'),\n",
    "    yaxis=dict(title='Grondwater- en Waterstand (m NAP)', side='left'),\n",
    "    yaxis2=dict(title='Neerslag en Verdamping (mm/dag)', overlaying='y', side='right'),\n",
    "    legend=dict(x=0.01, y=0.99),\n",
    "    height=500,\n",
    "    width=1000\n",
    ")\n",
    "\n",
    "fig.show()\n"
   ]
  },
  {
   "cell_type": "markdown",
   "id": "243ff4b5",
   "metadata": {},
   "source": [
    "### Model neerzetten"
   ]
  },
  {
   "cell_type": "code",
   "execution_count": null,
   "id": "fa319f16",
   "metadata": {},
   "outputs": [],
   "source": [
    "# 1. Create the model\n",
    "ml = ps.Model(head_daily_mean, name=\"NonlinearRechargeModel\")\n",
    "\n",
    "# 2. Define recharge model\n",
    "rch = ps.rch.Linear()  # Nonlinear recharge function\n",
    "rm = ps.RechargeModel(\n",
    "    prec=prec,\n",
    "    evap=evap,\n",
    "    recharge=rch,\n",
    "    rfunc=ps.DoubleExponential(),  # Response function\n",
    "    name=\"rch\"\n",
    ")\n",
    "ml.add_stressmodel(rm)\n",
    "\n",
    "# # # Optional: add extra stressor if needed\n",
    "extra = ps.StressModel(waterhoogte_daily_mean, rfunc=ps.FourParam(), name=\"extra\", settings=\"prec\", up=True)\n",
    "ml.add_stressmodel(extra)\n",
    "\n",
    "\n",
    "#3. Add noise model explicitly (e.g., AR(1))\n",
    "noise_model = ps.ArNoiseModel(2)  # You can specify order with ps.ArNoiseModel(order=2), etc.\n",
    "ml.add_noisemodel(noise_model)\n",
    "\n",
    "# 4. Solve the model\n",
    "ml.solve(tmin=start_head_series, tmax=end_head_series, solver=ps.LeastSquares(), report=True)\n",
    "\n",
    "# 5. Plot results\n",
    "ml.plots.results(figsize=(16, 6))"
   ]
  },
  {
   "cell_type": "code",
   "execution_count": null,
   "id": "cb1991ba",
   "metadata": {},
   "outputs": [],
   "source": [
    "ml.plots.diagnostics(figsize=(16, 6))"
   ]
  },
  {
   "cell_type": "code",
   "execution_count": null,
   "id": "af27f839",
   "metadata": {},
   "outputs": [],
   "source": [
    "ml.plots.decomposition(figsize=(16, 6))"
   ]
  },
  {
   "cell_type": "code",
   "execution_count": null,
   "id": "366207eb",
   "metadata": {},
   "outputs": [],
   "source": [
    "print(ml.stats.diagnostics(alpha=0.05))"
   ]
  },
  {
   "cell_type": "code",
   "execution_count": null,
   "id": "c00092b5",
   "metadata": {},
   "outputs": [],
   "source": [
    "import matplotlib.pyplot as plt\n",
    "\n",
    "# Get observed and simulated values\n",
    "observed = ml.observations()  # <- no .series here!\n",
    "simulated = ml.simulate()\n",
    "\n",
    "# Create scatter plot\n",
    "plt.figure(figsize=(5, 5))\n",
    "plt.scatter(simulated, observed, alpha=0.5, color='dodgerblue', edgecolor='k')\n",
    "\n",
    "# Add 45-degree reference line\n",
    "min_val = min(observed.min(), simulated.min())\n",
    "max_val = max(observed.max(), simulated.max())\n",
    "plt.plot([min_val, max_val], [min_val, max_val], 'r--', label=\"1:1 Line\")\n",
    "\n",
    "# Labels and title\n",
    "plt.xlabel(\"Simulated Head (m)\")\n",
    "plt.ylabel(\"Observed Head (m)\")\n",
    "plt.title(\"Observed vs. Simulated Groundwater Head\")\n",
    "plt.grid(True)\n",
    "plt.legend()\n",
    "plt.axis(\"equal\")\n",
    "plt.tight_layout()\n",
    "plt.show()\n"
   ]
  },
  {
   "cell_type": "code",
   "execution_count": null,
   "id": "5e427636",
   "metadata": {},
   "outputs": [],
   "source": [
    "import seaborn as sns\n",
    "import matplotlib.pyplot as plt\n",
    "\n",
    "# Get observed and simulated values\n",
    "observed = ml.observations()\n",
    "simulated = ml.simulate()\n",
    "\n",
    "# Create density plot\n",
    "plt.figure(figsize=(6, 6))\n",
    "sns.kdeplot(\n",
    "    x=simulated, y=observed,\n",
    "    cmap=\"viridis\", fill=True, thresh=0.01, levels=100\n",
    ")\n",
    "\n",
    "# Add 45-degree reference line\n",
    "min_val = min(observed.min(), simulated.min())\n",
    "max_val = max(observed.max(), simulated.max())\n",
    "plt.plot([min_val, max_val], [min_val, max_val], 'r--', label=\"1:1 Line\")\n",
    "\n",
    "# Labels and title\n",
    "plt.xlabel(\"Simulated Head (m)\")\n",
    "plt.ylabel(\"Observed Head (m)\")\n",
    "plt.title(\"Density Heatmap: Observed vs. Simulated Head\")\n",
    "plt.grid(True)\n",
    "plt.legend()\n",
    "plt.axis(\"equal\")\n",
    "plt.tight_layout()\n",
    "plt.show()"
   ]
  },
  {
   "cell_type": "code",
   "execution_count": null,
   "id": "c3ef5e6d",
   "metadata": {},
   "outputs": [],
   "source": [
    "import numpy as np\n",
    "import pandas as pd\n",
    "import matplotlib.pyplot as plt\n",
    "\n",
    "# 1. Get the recharge input series (already includes prec, evap, and recharge logic)\n",
    "recharge_input = ml.stressmodels['rch'].stress[0].series.asfreq(\"D\").fillna(0)\n",
    "\n",
    "# 2. Get parameters from the model\n",
    "all_params_df = ml.parameters  # this is a DataFrame in all versions\n",
    "rch_param_names = [p for p in all_params_df.index if p.startswith(\"rch_\")]\n",
    "rch_param_values = all_params_df.loc[rch_param_names, \"optimal\"].values\n",
    "\n",
    "# 3. Get the response function object\n",
    "rch_rfunc = ml.stressmodels['rch'].rfunc\n",
    "\n",
    "# 4. Compute the IRF and truncate\n",
    "full_irf_rch = rch_rfunc.block(rch_param_values, dt=1.0)\n",
    "cutoff = 100\n",
    "irf_rch = full_irf_rch[:cutoff]\n",
    "\n",
    "# 5. Prepare plotting loop\n",
    "dates = recharge_input.index\n",
    "n = len(recharge_input)\n",
    "\n",
    "plt.figure(figsize=(16, 6))\n",
    "\n",
    "for i in range(0, n - cutoff, 5):  # step=5 to reduce clutter\n",
    "    t0 = dates[i]\n",
    "    t_range = pd.date_range(t0, periods=cutoff, freq=\"D\")\n",
    "    pulse = recharge_input.iloc[i] * irf_rch\n",
    "    plt.plot(t_range, pulse, color='green' if pulse[0] >= 0 else 'orange', alpha=0.4)\n",
    "\n",
    "plt.axhline(0, color='black', linewidth=0.8, linestyle='--')\n",
    "plt.title(\"Pulses Generated by 'rch' Stressor (Recharge)\")\n",
    "plt.xlabel(\"Date\")\n",
    "plt.ylabel(\"Head Contribution (m)\")\n",
    "plt.grid(True)\n",
    "plt.tight_layout()\n",
    "plt.show()\n"
   ]
  },
  {
   "cell_type": "code",
   "execution_count": null,
   "id": "8f1605e8",
   "metadata": {},
   "outputs": [],
   "source": [
    "import numpy as np\n",
    "import pandas as pd\n",
    "import matplotlib.pyplot as plt\n",
    "\n",
    "# 1. Get stress input\n",
    "stress_input = ml.stressmodels['extra'].stress[0].series.asfreq(\"D\").fillna(0)\n",
    "\n",
    "# 2. Get impulse response function (IRF), truncate\n",
    "full_irf = ps.FourParam().block([A, a, b, c], dt=1.0)\n",
    "cutoff = 100\n",
    "irf = full_irf[:cutoff]\n",
    "\n",
    "# 3. Prepare time values\n",
    "dates = stress_input.index\n",
    "n = len(stress_input)\n",
    "\n",
    "# 4. Plot\n",
    "plt.figure(figsize=(16, 6))\n",
    "\n",
    "for i in range(0, n - cutoff, 5):  # step=5 to avoid overplotting (adjust as needed)\n",
    "    t0 = dates[i]\n",
    "    t_range = pd.date_range(t0, periods=cutoff, freq=\"D\")\n",
    "    pulse = stress_input.iloc[i] * irf\n",
    "    plt.plot(t_range, pulse, color='blue' if pulse[0] >= 0 else 'red', alpha=0.5)\n",
    "\n",
    "plt.axhline(0, color='black', linewidth=0.8, linestyle='--')\n",
    "plt.title(\"Pulses Generated by 'extra' Stressor (Colored by Sign)\")\n",
    "plt.xlabel(\"Date\")\n",
    "plt.ylabel(\"Head Contribution (m)\")\n",
    "plt.grid(True)\n",
    "plt.tight_layout()\n",
    "plt.show()\n"
   ]
  },
  {
   "cell_type": "code",
   "execution_count": null,
   "id": "0b66adef",
   "metadata": {},
   "outputs": [],
   "source": [
    "results_df"
   ]
  }
 ],
 "metadata": {
  "kernelspec": {
   "display_name": "pastas-wv2030-DEhQJ0k--py3.12",
   "language": "python",
   "name": "python3"
  },
  "language_info": {
   "codemirror_mode": {
    "name": "ipython",
    "version": 3
   },
   "file_extension": ".py",
   "mimetype": "text/x-python",
   "name": "python",
   "nbconvert_exporter": "python",
   "pygments_lexer": "ipython3",
   "version": "3.12.9"
  }
 },
 "nbformat": 4,
 "nbformat_minor": 5
}
