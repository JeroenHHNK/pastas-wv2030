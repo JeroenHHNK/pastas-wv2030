{
 "cells": [
  {
   "cell_type": "code",
   "execution_count": 1,
   "id": "86a213d6",
   "metadata": {},
   "outputs": [
    {
     "name": "stdout",
     "output_type": "stream",
     "text": [
      "Input folder: ..\\input_files\\raw_batch_fugro\n",
      "Output folder: ..\\output_files\\output_sheets\n"
     ]
    }
   ],
   "source": [
    "# Import required libraries\n",
    "import os\n",
    "import re\n",
    "import pandas as pd\n",
    "\n",
    "# Define the input folder containing Excel files\n",
    "input_folder = os.path.join(\"..\", \"input_files\", \"raw_batch_fugro\")\n",
    "\n",
    "# Define the output folder for cleaned CSVs\n",
    "output_folder = os.path.join(\"..\", \"output_files\", \"output_sheets\")\n",
    "os.makedirs(output_folder, exist_ok=True)  # Create if it doesn't exist\n",
    "\n",
    "print(f\"Input folder: {input_folder}\")\n",
    "print(f\"Output folder: {output_folder}\")"
   ]
  },
  {
   "cell_type": "code",
   "execution_count": 2,
   "id": "72ce801f",
   "metadata": {},
   "outputs": [],
   "source": [
    "# Function to sanitize column names for filenames\n",
    "def sanitize_column_name(col_name):\n",
    "    # Replace all non-alphanumeric characters with underscores\n",
    "    safe_name = re.sub(r'[^\\w\\-]', '_', col_name)\n",
    "    # Remove multiple underscores\n",
    "    safe_name = re.sub(r'__+', '_', safe_name)\n",
    "    # Strip leading/trailing underscores\n",
    "    return safe_name.strip('_')"
   ]
  },
  {
   "cell_type": "code",
   "execution_count": 3,
   "id": "15c39458",
   "metadata": {},
   "outputs": [
    {
     "name": "stdout",
     "output_type": "stream",
     "text": [
      " Processing file: Fugro_Hhw_geavanceerd_4424.xlsx\n",
      "Finished: Fugro_Hhw_geavanceerd_4424.xlsx\n",
      " Processing file: Fugro_Hhw_normaal.xlsx\n",
      "Finished: Fugro_Hhw_geavanceerd_4424.xlsx\n",
      " Processing file: Fugro_Hhw_normaal.xlsx\n",
      "Finished: Fugro_Hhw_normaal.xlsx\n",
      " Processing file: Fugro_Hoorn_4423.xlsx\n",
      "Finished: Fugro_Hhw_normaal.xlsx\n",
      " Processing file: Fugro_Hoorn_4423.xlsx\n",
      "Finished: Fugro_Hoorn_4423.xlsx\n",
      " Processing file: Fugro_Hoorn_Zuiderdijk.xlsx\n",
      "Finished: Fugro_Hoorn_4423.xlsx\n",
      " Processing file: Fugro_Hoorn_Zuiderdijk.xlsx\n",
      "Finished: Fugro_Hoorn_Zuiderdijk.xlsx\n",
      "🎉 All files processed.\n",
      "Finished: Fugro_Hoorn_Zuiderdijk.xlsx\n",
      "🎉 All files processed.\n"
     ]
    }
   ],
   "source": [
    "# Loop over all Excel files in the input folder\n",
    "for filename in os.listdir(input_folder):\n",
    "    if filename.endswith(\".xlsx\") or filename.endswith(\".xls\"):\n",
    "        file_path = os.path.join(input_folder, filename)\n",
    "        print(f\" Processing file: {filename}\")\n",
    "\n",
    "        try:\n",
    "            # Read the Excel file, skipping metadata rows\n",
    "            df = pd.read_excel(file_path, skiprows=6)\n",
    "\n",
    "            for col in df.columns:\n",
    "                if col != 'Time':\n",
    "                    # Create sub-DataFrame\n",
    "                    df_single = df[['Time', col]].copy()\n",
    "\n",
    "                    # Drop the first row (polluted)\n",
    "                    df_single = df_single.iloc[1:].copy()\n",
    "\n",
    "                    # Rename columns\n",
    "                    df_single.columns = ['Timestamp', 'head']\n",
    "\n",
    "                    # Drop rows where 'head' is NaN\n",
    "                    df_single = df_single.dropna(subset=['head'])\n",
    "\n",
    "                    # Sanitize filename\n",
    "                    safe_col_name = sanitize_column_name(col)\n",
    "\n",
    "                    # Include original Excel filename (without extension) in output CSV name\n",
    "                    base_name = os.path.splitext(filename)[0]\n",
    "                    output_file = os.path.join(output_folder, f\"{safe_col_name}.csv\")\n",
    "\n",
    "                    # Save to CSV\n",
    "                    df_single.to_csv(output_file, index=False)\n",
    "\n",
    "            print(f\"Finished: {filename}\")\n",
    "\n",
    "        except Exception as e:\n",
    "            print(f\"❌ Error processing {filename}: {e}\")\n",
    "\n",
    "print(\"🎉 All files processed.\")"
   ]
  }
 ],
 "metadata": {
  "kernelspec": {
   "display_name": "pastas-wv2030-DEhQJ0k--py3.12",
   "language": "python",
   "name": "python3"
  },
  "language_info": {
   "codemirror_mode": {
    "name": "ipython",
    "version": 3
   },
   "file_extension": ".py",
   "mimetype": "text/x-python",
   "name": "python",
   "nbconvert_exporter": "python",
   "pygments_lexer": "ipython3",
   "version": "3.12.9"
  }
 },
 "nbformat": 4,
 "nbformat_minor": 5
}
