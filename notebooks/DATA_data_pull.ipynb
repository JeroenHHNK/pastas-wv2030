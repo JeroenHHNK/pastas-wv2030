{
 "cells": [
  {
   "cell_type": "markdown",
   "id": "b5a6dc63",
   "metadata": {},
   "source": [
    "# KNMI Data Pull: Download and Save Precipitation & Evaporation Series\n",
    "\n",
    "This notebook downloads daily weather data from KNMI for a given station and date range,\n",
    "and saves the precipitation and evapotranspiration series as separate CSV files.\n",
    "\n",
    "- Output:\n",
    "    - Precipitation → `input_files/input_prec/prec_station_<station>.csv`\n",
    "    - Evapotranspiration → `input_files/input_evap/evap_station_<station>.csv`\n",
    "\n",
    "You can adjust the station and date range below."
   ]
  },
  {
   "cell_type": "code",
   "execution_count": 1,
   "id": "70d421f7",
   "metadata": {},
   "outputs": [],
   "source": [
    "# --- User settings ---\n",
    "station = 249  # KNMI station number (e.g., 249 for Berkhout)\n",
    "start_date = '2013-01-01'  # Start date (YYYY-MM-DD)\n",
    "end_date = '2025-7-10'    # End date (YYYY-MM-DD)"
   ]
  },
  {
   "cell_type": "code",
   "execution_count": 2,
   "id": "842fa8d1",
   "metadata": {},
   "outputs": [],
   "source": [
    "# --- Imports and utility function ---\n",
    "import os\n",
    "import numpy as np\n",
    "import pandas as pd\n",
    "import requests\n",
    "from io import StringIO\n",
    "\n",
    "def fetch_knmi_prec_evap(station: int, start_date: str, end_date: str):\n",
    "    \"\"\"\n",
    "    Fetch KNMI daily data and compute precipitation and evapotranspiration (Hargreaves).\n",
    "    \n",
    "    Parameters:\n",
    "    - station (int): KNMI station number (e.g., 249 for Berkhout)\n",
    "    - start_date (str): Start date in 'YYYY-MM-DD' or 'YYYYMMDD' format\n",
    "    - end_date (str): End date in 'YYYY-MM-DD' or 'YYYYMMDD' format\n",
    "    \n",
    "    Returns:\n",
    "    - prec (pd.Series): Precipitation series in mm/day (float64)\n",
    "    - evap (pd.Series): Evapotranspiration series in mm/day (float64)\n",
    "    \"\"\"\n",
    "    # Convert dates to YYYYMMDD if needed\n",
    "    start = start_date.replace('-', '')\n",
    "    end = end_date.replace('-', '')\n",
    "    url = 'https://www.daggegevens.knmi.nl/klimatologie/daggegevens'\n",
    "    params = {\n",
    "        'start': start,\n",
    "        'end': end,\n",
    "        'stns': str(station),\n",
    "        'vars': 'Q:RH:TN:TX:TG',\n",
    "        'fmt': 'csv'\n",
    "    }\n",
    "    response = requests.post(url, data=params)\n",
    "    response.raise_for_status()\n",
    "    csv_data = '\\n'.join(line for line in response.text.splitlines() if not line.startswith('#'))\n",
    "\n",
    "\n",
    "    knmi_df = pd.read_csv(StringIO(csv_data), header=None)\n",
    "    knmi_df.columns = ['STN', 'DATE', 'Q', 'RH', 'TN', 'TX', 'TG']\n",
    "    knmi_df['DATE'] = pd.to_datetime(knmi_df['DATE'], format='%Y%m%d')\n",
    "    knmi_df['Q'] = knmi_df['Q'] * 0.01\n",
    "    knmi_df['RH'] = knmi_df['RH'] / 10.0\n",
    "    knmi_df['TN'] = knmi_df['TN'] / 10.0\n",
    "    knmi_df['TX'] = knmi_df['TX'] / 10.0\n",
    "    knmi_df['TG'] = knmi_df['TG'] / 10.0\n",
    "    knmi_df.rename(columns={\n",
    "        'Q': 'Radiation',\n",
    "        'RH': 'Precipitation',\n",
    "        'TN': 'Tmin',\n",
    "        'TX': 'Tmax',\n",
    "        'TG': 'Tavg'\n",
    "    }, inplace=True)\n",
    "    def hargreaves_pet(row):\n",
    "        t_avg, t_max, t_min, ra = row['Tavg'], row['Tmax'], row['Tmin'], row['Radiation']\n",
    "        if np.isnan(t_avg) or np.isnan(t_max) or np.isnan(t_min) or np.isnan(ra):\n",
    "            return np.nan\n",
    "        return 0.0023 * (t_avg + 17.8) * np.sqrt(t_max - t_min) * ra\n",
    "    knmi_df['ET'] = knmi_df.apply(hargreaves_pet, axis=1)\n",
    "    knmi_df = knmi_df.set_index('DATE')\n",
    "    prec = knmi_df['Precipitation'].astype(float)\n",
    "    evap = knmi_df['ET'].astype(float)\n",
    "    return prec, evap"
   ]
  },
  {
   "cell_type": "code",
   "execution_count": 3,
   "id": "4dcfd6c3",
   "metadata": {},
   "outputs": [],
   "source": [
    "# --- Ensure output directories exist ---\n",
    "import os\n",
    "prec_dir = '../input_files/input_prec'\n",
    "evap_dir = '../input_files/input_evap'\n",
    "os.makedirs(prec_dir, exist_ok=True)\n",
    "os.makedirs(evap_dir, exist_ok=True)"
   ]
  },
  {
   "cell_type": "code",
   "execution_count": 4,
   "id": "489b6136",
   "metadata": {},
   "outputs": [
    {
     "name": "stdout",
     "output_type": "stream",
     "text": [
      "Precipitation saved to: ../input_files/input_prec/prec_station_249.csv\n",
      "Evapotranspiration saved to: ../input_files/input_evap/evap_station_249.csv\n"
     ]
    }
   ],
   "source": [
    "# --- Download and save data ---\n",
    "prec, evap = fetch_knmi_prec_evap(station, start_date, end_date)\n",
    "\n",
    "# Save precipitation\n",
    "prec_path = f'{prec_dir}/prec_station_{station}.csv'\n",
    "prec.to_csv(prec_path, header=True)\n",
    "print(f'Precipitation saved to: {prec_path}')\n",
    "\n",
    "# Save evapotranspiration\n",
    "evap_path = f'{evap_dir}/evap_station_{station}.csv'\n",
    "evap.to_csv(evap_path, header=True)\n",
    "print(f'Evapotranspiration saved to: {evap_path}')"
   ]
  },
  {
   "cell_type": "markdown",
   "id": "d6d7983f",
   "metadata": {},
   "source": [
    "---\n",
    "\n",
    "*You can now use these CSV files as input for further analysis or modeling workflows.*"
   ]
  }
 ],
 "metadata": {
  "kernelspec": {
   "display_name": "pastas-wv2030-gYPXqKkJ-py3.13",
   "language": "python",
   "name": "python3"
  },
  "language_info": {
   "codemirror_mode": {
    "name": "ipython",
    "version": 3
   },
   "file_extension": ".py",
   "mimetype": "text/x-python",
   "name": "python",
   "nbconvert_exporter": "python",
   "pygments_lexer": "ipython3",
   "version": "3.13.5"
  }
 },
 "nbformat": 4,
 "nbformat_minor": 5
}
